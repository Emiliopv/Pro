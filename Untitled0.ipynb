{
  "nbformat": 4,
  "nbformat_minor": 0,
  "metadata": {
    "colab": {
      "name": "Untitled0.ipynb",
      "provenance": [],
      "collapsed_sections": []
    },
    "kernelspec": {
      "name": "python3",
      "display_name": "Python 3"
    },
    "language_info": {
      "name": "python"
    }
  },
  "cells": [
    {
      "cell_type": "code",
      "metadata": {
        "colab": {
          "base_uri": "https://localhost:8080/"
        },
        "id": "y3Ma6CD61wz2",
        "outputId": "4a7519c6-3567-4896-c9cb-750b27b32f4e"
      },
      "source": [
        "def busqueda_lineal(lista, val_a_buscar):\n",
        "  contador = 0\n",
        "  for x in range(len(lista)):\n",
        "    contador += 1\n",
        "    if lista[x] == val_a_buscar:\n",
        "      print(f\"Encontrado en la posicion {x}\") #0( 1 )\n",
        "      break\n",
        "  return contador\n",
        "#0( 1 + n + 1 ) --> 0( 2 + n )\n",
        "numeros = [2,3,1,23,24,25,10,100,35,8]\n",
        "comparaciones = busqueda_lineal(numeros, 10)\n",
        "print(f\"{comparaciones} comparaciones\")"
      ],
      "execution_count": null,
      "outputs": [
        {
          "output_type": "stream",
          "name": "stdout",
          "text": [
            "Encontrado en la posicion 6\n",
            "7 comparaciones\n"
          ]
        }
      ]
    }
  ]
}