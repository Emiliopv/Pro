{
  "nbformat": 4,
  "nbformat_minor": 0,
  "metadata": {
    "colab": {
      "name": "Untitled19.ipynb",
      "provenance": [],
      "authorship_tag": "ABX9TyMiAIpN4yyRLnOOHnQSifO2",
      "include_colab_link": true
    },
    "kernelspec": {
      "name": "python3",
      "display_name": "Python 3"
    },
    "language_info": {
      "name": "python"
    }
  },
  "cells": [
    {
      "cell_type": "markdown",
      "metadata": {
        "id": "view-in-github",
        "colab_type": "text"
      },
      "source": [
        "<a href=\"https://colab.research.google.com/github/Emiliopv/Pro/blob/main/Untitled19.ipynb\" target=\"_parent\"><img src=\"https://colab.research.google.com/assets/colab-badge.svg\" alt=\"Open In Colab\"/></a>"
      ]
    },
    {
      "cell_type": "code",
      "metadata": {
        "id": "L5k5kGHl6uZr"
      },
      "source": [
        "def displayhash(hashTable): \n",
        "\n",
        "    for i in range(len(hashTable)): \n",
        "        print(i, end = \" \") \n",
        "\n",
        "        for j in hashTable[i]: \n",
        "            print(\"-->\", end = \" \") \n",
        "            print(j, end = \" \") \n",
        "\n",
        "        print() \n",
        "\n",
        "HashTable = [[] for  in range(23)] \n",
        "\n",
        "def Hashing(keyvalue): \n",
        "    return keyvalue % len(HashTable) \n",
        "\n",
        "\n",
        "def insert(Hashtable, keyvalue, value): \n",
        "\n",
        "    hash_key = Hashing(keyvalue) \n",
        "    Hashtable[hash_key].append(value) \n",
        "\n",
        "insert(HashTable, 415, 'Fresa') \n",
        "insert(HashTable, 520, 'Manzana') \n",
        "insert(HashTable, 40, 'Platano') \n",
        "insert(HashTable, 123, 'Coco') \n",
        "insert(HashTable, 215, 'Mora') \n",
        "insert(HashTable, 23, 'Elote') \n",
        "\n",
        "display_hash(HashTable)"
      ],
      "execution_count": null,
      "outputs": []
    }
  ]
}