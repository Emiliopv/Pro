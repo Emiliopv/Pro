{
  "nbformat": 4,
  "nbformat_minor": 0,
  "metadata": {
    "colab": {
      "name": "Untitled18.ipynb",
      "provenance": [],
      "authorship_tag": "ABX9TyM56Y4aIPki5VRfzHpC4uQ0",
      "include_colab_link": true
    },
    "kernelspec": {
      "name": "python3",
      "display_name": "Python 3"
    },
    "language_info": {
      "name": "python"
    }
  },
  "cells": [
    {
      "cell_type": "markdown",
      "metadata": {
        "id": "view-in-github",
        "colab_type": "text"
      },
      "source": [
        "<a href=\"https://colab.research.google.com/github/Emiliopv/Pro/blob/main/Untitled18.ipynb\" target=\"_parent\"><img src=\"https://colab.research.google.com/assets/colab-badge.svg\" alt=\"Open In Colab\"/></a>"
      ]
    },
    {
      "cell_type": "code",
      "metadata": {
        "colab": {
          "base_uri": "https://localhost:8080/"
        },
        "id": "Z4Fu_uDjwyOL",
        "outputId": "d7571627-6ada-4641-f728-5ab5e49a0531"
      },
      "source": [
        "# Buscar el elemento mas grande dentro de un array (lista)\n",
        "\n",
        "def maximo_recursivo ( data ):\n",
        "    if len(data) == 2:\n",
        "        return data[0] if data[0]>data[1] else data[1]\n",
        "    elif len(data) == 1:\n",
        "        return data[0]\n",
        "    else:\n",
        "        mid = len(data) // 2\n",
        "        I = maximo_recursivo ( data[:mid:] )\n",
        "        D = maximo_recursivo ( data[mid::] )\n",
        "        return I if I>D else D\n",
        "\n",
        "info =[2,3,1,13,44,12,323,45,23,54,63,21,4,5,33,75]\n",
        "print( maximo_recursivo(info))"
      ],
      "execution_count": 1,
      "outputs": [
        {
          "output_type": "stream",
          "name": "stdout",
          "text": [
            "323\n"
          ]
        }
      ]
    }
  ]
}