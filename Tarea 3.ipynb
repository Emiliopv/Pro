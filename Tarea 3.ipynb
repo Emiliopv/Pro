{
  "nbformat": 4,
  "nbformat_minor": 0,
  "metadata": {
    "colab": {
      "name": "Untitled10.ipynb",
      "provenance": [],
      "authorship_tag": "ABX9TyOPAixbjabX3kdkS17gGY0n",
      "include_colab_link": true
    },
    "kernelspec": {
      "name": "python3",
      "display_name": "Python 3"
    },
    "language_info": {
      "name": "python"
    }
  },
  "cells": [
    {
      "cell_type": "markdown",
      "metadata": {
        "id": "view-in-github",
        "colab_type": "text"
      },
      "source": [
        "<a href=\"https://colab.research.google.com/github/Emiliopv/Pro/blob/main/Tarea%203.ipynb\" target=\"_parent\"><img src=\"https://colab.research.google.com/assets/colab-badge.svg\" alt=\"Open In Colab\"/></a>"
      ]
    },
    {
      "cell_type": "code",
      "metadata": {
        "colab": {
          "base_uri": "https://localhost:8080/"
        },
        "id": "AFz5kuXshc8z",
        "outputId": "30c825fb-1e0c-4223-d58f-f616a24179b5"
      },
      "source": [
        "# -*- coding: utf-8 -*-\n",
        "\"\"\"\n",
        "Created on Thu Sep 16 14:58:47 2021\n",
        "@author: Emilio PV\n",
        "\"\"\"\n",
        "def combinacion(combinar, lista):\n",
        "\tnew_comb=[]\n",
        "\tfor x in combinar:\n",
        "\t\tpto=lista.index(x[len(x)-1])\n",
        "\t\tfor j in range(pto,len(lista)):\t\n",
        "\t\t\tif lista[j] not in x and lista[len(lista)-1] not in x:\t\n",
        "\t\t\t\tnew_comb.append(x+lista[j]) \n",
        "\tprint (new_comb)\n",
        "\treturn new_comb \n",
        " \n",
        " \n",
        " \n",
        "lista=[\"1\",\"2\",\"3\"]\n",
        "print (\"C O M B I N A C I O N E S\")\n",
        "combinacion(lista, lista)"
      ],
      "execution_count": 3,
      "outputs": [
        {
          "output_type": "stream",
          "name": "stdout",
          "text": [
            "C O M B I N A C I O N E S\n",
            "['12', '13', '23']\n"
          ]
        },
        {
          "output_type": "execute_result",
          "data": {
            "text/plain": [
              "['12', '13', '23']"
            ]
          },
          "metadata": {},
          "execution_count": 3
        }
      ]
    },
    {
      "cell_type": "code",
      "metadata": {
        "colab": {
          "base_uri": "https://localhost:8080/"
        },
        "id": "537jSU-whmiw",
        "outputId": "09711d3a-0fb0-407c-9dd6-a5925995a1fd"
      },
      "source": [
        "# -*- coding: utf-8 -*-\n",
        "\"\"\"\n",
        "Created on Thu Sep 16 15:11:47 2021\n",
        "@author: Emilio PV\n",
        "\"\"\"\n",
        "from itertools import chain, combinations\n",
        "\n",
        "lista = [1, 2, 3]\n",
        "        \n",
        "\n",
        "def combinaciones (li):\n",
        "    return chain(*map(lambda x: combinations(li, x), range(0, len(li)+1)))\n",
        "\n",
        "for comb in combinaciones(lista):\n",
        "    print(comb)"
      ],
      "execution_count": 2,
      "outputs": [
        {
          "output_type": "stream",
          "name": "stdout",
          "text": [
            "()\n",
            "(1,)\n",
            "(2,)\n",
            "(3,)\n",
            "(1, 2)\n",
            "(1, 3)\n",
            "(2, 3)\n",
            "(1, 2, 3)\n"
          ]
        }
      ]
    }
  ]
}