{
  "nbformat": 4,
  "nbformat_minor": 0,
  "metadata": {
    "colab": {
      "name": "Untitled12.ipynb",
      "provenance": [],
      "authorship_tag": "ABX9TyMXdyRD8dt1NjW/aeZ7mPHw",
      "include_colab_link": true
    },
    "kernelspec": {
      "name": "python3",
      "display_name": "Python 3"
    },
    "language_info": {
      "name": "python"
    }
  },
  "cells": [
    {
      "cell_type": "markdown",
      "metadata": {
        "id": "view-in-github",
        "colab_type": "text"
      },
      "source": [
        "<a href=\"https://colab.research.google.com/github/Emiliopv/Pro/blob/main/Tarea%205.ipynb\" target=\"_parent\"><img src=\"https://colab.research.google.com/assets/colab-badge.svg\" alt=\"Open In Colab\"/></a>"
      ]
    },
    {
      "cell_type": "code",
      "metadata": {
        "colab": {
          "base_uri": "https://localhost:8080/"
        },
        "id": "r0XUjBTSl2Wy",
        "outputId": "29619894-3809-4642-9aa2-1477edf4c890"
      },
      "source": [
        "def cajero(monto):\n",
        "    billetes = (500,200,100) #O(3) O(3)\n",
        "    monedas = (20,10,5,1,0.5) #O(5) O(5)\n",
        "    \n",
        "    i = 0 #O(4) O(1)\n",
        "    resultado = \"\" #O(0) O(1)\n",
        "    validar = False #O(1) O(1)\n",
        "    \n",
        "    for billete in billetes: #O(1) O(na)\n",
        "      while validar is False: #O(0) O(na)\n",
        "        aux = monto \n",
        "        monto = monto - billete \n",
        "        if monto >= 0: #O(0) O(na)\n",
        "          i = i+1 \n",
        "        else:\n",
        "          monto = aux \n",
        "          validar = True #O(0) O(3)\n",
        "      if i > 0: #O(0) O(na)\n",
        "        resultado = resultado + \"\\n\" + f\"{i} Billetes de: ${billete}\" #O(17) O(3)\n",
        "      validar = False \n",
        "      i = 0 \n",
        "    \n",
        "    for moneda in monedas: #O(1) O(na)\n",
        "      while validar is False: #O(0) O(na)\n",
        "        aux = monto\n",
        "        monto = monto - moneda #O(0) O(5*n)\n",
        "        if monto >= 0: #O(0) O(na)\n",
        "          i =  i+1 #O(0) O(5*n)\n",
        "        else:\n",
        "          monto = aux \n",
        "          validar = True \n",
        "      if i > 0: #O(0) O(na)\n",
        "        resultado = resultado + \"\\n\" + f\"{i} Monedas de: ${moneda}\" #O(17) O(5)\n",
        "      validar = False #O(0) O(5)\n",
        "      i = 0 \n",
        "      \n",
        "    return resultado\n",
        "    \n",
        "print(\"¿Cual es el monto? $459\")\n",
        "print(cajero(459))"
      ],
      "execution_count": 1,
      "outputs": [
        {
          "output_type": "stream",
          "name": "stdout",
          "text": [
            "¿Cual es el monto? $459\n",
            "\n",
            "2 Billetes de: $200\n",
            "2 Monedas de: $20\n",
            "1 Monedas de: $10\n",
            "1 Monedas de: $5\n",
            "4 Monedas de: $1\n"
          ]
        }
      ]
    }
  ]
}