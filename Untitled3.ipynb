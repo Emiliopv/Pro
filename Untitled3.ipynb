{
  "nbformat": 4,
  "nbformat_minor": 0,
  "metadata": {
    "colab": {
      "name": "Untitled3.ipynb",
      "provenance": [],
      "authorship_tag": "ABX9TyNRcmwqY0DTZUODkl5HUf7x",
      "include_colab_link": true
    },
    "kernelspec": {
      "name": "python3",
      "display_name": "Python 3"
    },
    "language_info": {
      "name": "python"
    }
  },
  "cells": [
    {
      "cell_type": "markdown",
      "metadata": {
        "id": "view-in-github",
        "colab_type": "text"
      },
      "source": [
        "<a href=\"https://colab.research.google.com/github/Emiliopv/Pro/blob/main/Untitled3.ipynb\" target=\"_parent\"><img src=\"https://colab.research.google.com/assets/colab-badge.svg\" alt=\"Open In Colab\"/></a>"
      ]
    },
    {
      "cell_type": "code",
      "metadata": {
        "id": "SRHshyqRo-J_"
      },
      "source": [
        "def insertion_sort(data):                       # M O(  N )   P O( 1 )\n",
        "  print(f\"original {data}\")                     # M O( 0  )   P O( 1 )\n",
        "  #TODA la logica de insertion sort            \n",
        "  for pivote in range( 1, (len (data)), 1 ):    # M O( 1 )    P O( NA )\n",
        "    for index in range(0, pivote+1, 1):         # M O(  1 )   P O( NA  )\n",
        "      if data[pivote] < data[index]:            # M O( 0 )    P O( NA )\n",
        "        temp = data[pivote]                     # M O(  1 )   P O( N )\n",
        "        #recorrer a la derecha #                 \n",
        "        for i in range (pivote, index, -1):     # M O( 1 )    P O( na  )\n",
        "          data[i] = data[ i - 1]                # M O( 0 )    P O( nxm )\n",
        "        data[index] = temp                      # M O( 0 )    P O(n )\n",
        "    print(f\"posicion {pivote} --> {data} <--\")   # M O(  0)    P O( 1 )\n",
        "  return data                                   # M O( 0  )   P O( 1 )\n",
        "# Resultado notación asintotica                                             M O( n + 3  )   P O(4 + 2n + n*m  ) ------>T(n)\n",
        "# Resultado notación asintotica                                             M O( n  )   P O( n^2 )\n",
        "info = [10, 51, 2, 18, 4, 31, 12, 5]\n",
        "\n",
        "print(insertion_sort(info))"
      ],
      "execution_count": null,
      "outputs": []
    }
  ]
}