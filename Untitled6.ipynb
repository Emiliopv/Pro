{
  "nbformat": 4,
  "nbformat_minor": 0,
  "metadata": {
    "colab": {
      "name": "Untitled6.ipynb",
      "provenance": [],
      "authorship_tag": "ABX9TyP7SEzAwh7GJiOmMqHhvI+K",
      "include_colab_link": true
    },
    "kernelspec": {
      "name": "python3",
      "display_name": "Python 3"
    },
    "language_info": {
      "name": "python"
    }
  },
  "cells": [
    {
      "cell_type": "markdown",
      "metadata": {
        "id": "view-in-github",
        "colab_type": "text"
      },
      "source": [
        "<a href=\"https://colab.research.google.com/github/Emiliopv/Pro/blob/main/Untitled6.ipynb\" target=\"_parent\"><img src=\"https://colab.research.google.com/assets/colab-badge.svg\" alt=\"Open In Colab\"/></a>"
      ]
    },
    {
      "cell_type": "code",
      "metadata": {
        "id": "39xwOb8wjm80"
      },
      "source": [
        "class NodoArbol:\n",
        "  def __init__( self , value , left=None , right=None):\n",
        "    self.data = value\n",
        "    self.left = left\n",
        "    self.right = right\n",
        "\n",
        "class ArbolBB:\n",
        "    def __init__( self ):\n",
        "      self.__root = None\n",
        "\n",
        "    def insert( self , value ):\n",
        "      if self.__root == None:\n",
        "        self.__root = NodoArbol( value )\n",
        "      else:\n",
        "        self.__insert_nodo__( self.__root, value)\n",
        "    \n",
        "    def __insert_nodo__( self, nodo , value ):\n",
        "      if nodo.data == value:\n",
        "          print(\"Ya existe\")\n",
        "          pass\n",
        "      elif value < nodo.data:\n",
        "          if nodo.left == None:\n",
        "              nodo.left = NodoArbol( value )\n",
        "          else:\n",
        "              self.__insert_nodo__(nodo.left , value)\n",
        "      else:\n",
        "            if nodo.right == None:\n",
        "              nodo.right = NodoArbol( value )\n",
        "            else:\n",
        "              self.__insert_nodo__(nodo.right , value)\n",
        "    \n",
        "    # preorden , posorden\n",
        "    def transversal( self , formato=\"inorden\"):\n",
        "        if formato == \"inorden\":\n",
        "            print(\"InOrden\")\n",
        "            self.recorrido_in(self.__root)\n",
        "            print()\n",
        "        elif formato == \"preorden\":\n",
        "            print(\"PreOrden\")\n",
        "            self.recorrido_pre(self.__root)\n",
        "            print()\n",
        "        else: #post\n",
        "            print(\"PosOrden\")\n",
        "            self.recorrido_pos(self.__root)\n",
        "            print()\n",
        "    \n",
        "    def recorrido_in( self , nodo):\n",
        "        if nodo != None:\n",
        "          self.recorrido_in( nodo.left )\n",
        "          print( nodo.data , end = \"  \" )\n",
        "          self.recorrido_in( nodo.right )\n",
        "    \n",
        "    def recorrido_pre( self , nodo):\n",
        "        if nodo != None:\n",
        "          print( nodo.data , end = \"  \" )\n",
        "          self.recorrido_pre( nodo.left )\n",
        "          self.recorrido_pre( nodo.right )\n",
        "    \n",
        "    def recorrido_pos( self , nodo):\n",
        "        if nodo != None:\n",
        "          self.recorrido_pos( nodo.left )\n",
        "          self.recorrido_pos( nodo.right )\n",
        "          print( nodo.data , end = \"  \" )\n",
        "    \n",
        "    def buscar( self , value):\n",
        "        if self.__root == None:\n",
        "            print(\"Arbol vacio\")\n",
        "            return None\n",
        "        else:\n",
        "            return self.busca_nodo( self.__root , value)\n",
        "    \n",
        "    def busca_nodo( self , nodo , value ):\n",
        "        if nodo == None:\n",
        "            print(\"No existe\")\n",
        "            return None\n",
        "        elif nodo.data == value:\n",
        "            print(\"Encontrado\" , nodo.data)\n",
        "            return nodo\n",
        "        elif value < nodo.data:\n",
        "            print(\"Buscar del lado izq\")\n",
        "            return self.busca_nodo( nodo.left , value)\n",
        "        else:\n",
        "            print(\"Buscar del lado derecho\")\n",
        "            return self.busca_nodo( nodo.right , value)"
      ],
      "execution_count": 3,
      "outputs": []
    },
    {
      "cell_type": "code",
      "metadata": {
        "colab": {
          "base_uri": "https://localhost:8080/"
        },
        "id": "XcScWqqBjr_h",
        "outputId": "8f439700-ad46-4a15-c230-cb2140a30a08"
      },
      "source": [
        "abb = ArbolBB()\n",
        "\"\"\"\n",
        "abb.insert(55)\n",
        "abb.insert(14)\n",
        "abb.insert(27)\n",
        "abb.insert(15)\n",
        "abb.insert(21)\n",
        "abb.insert(80)\n",
        "abb.insert(27)\n",
        "\"\"\"\n",
        "abb.insert(6)\n",
        "abb.insert(3)\n",
        "abb.insert(8)\n",
        "abb.transversal(\"inorden\")\n",
        "abb.transversal(\"preorden\")\n",
        "abb.transversal(\"posorden\")\n",
        "res = abb.buscar(8)\n",
        "\n",
        "print(\"Resultado\" , res.data)"
      ],
      "execution_count": 4,
      "outputs": [
        {
          "output_type": "stream",
          "name": "stdout",
          "text": [
            "InOrden\n",
            "3  6  8  \n",
            "PreOrden\n",
            "6  3  8  \n",
            "PosOrden\n",
            "3  8  6  \n",
            "Buscar del lado derecho\n",
            "Encontrado 8\n",
            "Resultado 8\n"
          ]
        }
      ]
    },
    {
      "cell_type": "code",
      "metadata": {
        "id": "bpoQ6iI9j08y"
      },
      "source": [
        "raiz = NodoArbol( 60 , None , None)\n",
        "raiz.left = NodoArbol( 40 , None , None)\n",
        "print(raiz.left.data)\n",
        "\n",
        "#Lo mismo pero como programador Ninja\n",
        "raiz = NodoArbol( 60, NodoArbol(40), None)\n",
        "print(raiz.left.data)\n",
        "\n",
        "\n",
        "raiz = NodoArbol( 60 , NodoArbol(40, NodoArbol(30)) , NodoArbol(70))\n",
        "print(raiz.left.left.data)\n",
        "\n",
        "#Imprimir el hijo mas a la izq\n",
        "print(\"Imprimir recorriendo primero la rama izquierda\")\n",
        "curr_node = raiz\n",
        "while curr_node.left != None:\n",
        "    curr_node = curr_node.left\n",
        "print(curr_node.data)"
      ],
      "execution_count": null,
      "outputs": []
    }
  ]
}