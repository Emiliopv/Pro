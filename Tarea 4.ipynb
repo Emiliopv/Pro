{
  "nbformat": 4,
  "nbformat_minor": 0,
  "metadata": {
    "colab": {
      "name": "Untitled11.ipynb",
      "provenance": [],
      "authorship_tag": "ABX9TyMf1BxT9gF18EdfSL46a39Z",
      "include_colab_link": true
    },
    "kernelspec": {
      "name": "python3",
      "display_name": "Python 3"
    },
    "language_info": {
      "name": "python"
    }
  },
  "cells": [
    {
      "cell_type": "markdown",
      "metadata": {
        "id": "view-in-github",
        "colab_type": "text"
      },
      "source": [
        "<a href=\"https://colab.research.google.com/github/Emiliopv/Pro/blob/main/Tarea%204.ipynb\" target=\"_parent\"><img src=\"https://colab.research.google.com/assets/colab-badge.svg\" alt=\"Open In Colab\"/></a>"
      ]
    },
    {
      "cell_type": "code",
      "metadata": {
        "id": "kdTAjmlyifBr"
      },
      "source": [
        "# -*- coding: utf-8 -*-\n",
        "\"\"\"\n",
        "Emilio PV\n",
        "\"\"\"\n",
        "\n",
        "def paliHoras():\n",
        "  hora = \"\"\n",
        "  contador = 0\n",
        "  for x in range(0,24):\n",
        "    for k in range(0,60):\n",
        "      if x < 10 and k < 10:\n",
        "        hora = f\"0{x}:0{k}\"\n",
        "      elif x < 10:\n",
        "        hora = f\"0{x}:{k}\"\n",
        "      elif k < 10:\n",
        "        hora = f\"{x}:0{k}\"\n",
        "      else:\n",
        "        hora = f\"{x}:{k}\"\n",
        "      if hora[0:2] == hora[4]+hora[3]:\n",
        "        print(hora)\n",
        "        contador += 1\n",
        "  print(f\"Total: {contador}\")"
      ],
      "execution_count": 1,
      "outputs": []
    }
  ]
}