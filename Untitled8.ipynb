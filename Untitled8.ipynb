{
  "nbformat": 4,
  "nbformat_minor": 0,
  "metadata": {
    "colab": {
      "name": "Untitled8.ipynb",
      "provenance": [],
      "authorship_tag": "ABX9TyNBOqkTPwSLB7F3t3rXzSDg",
      "include_colab_link": true
    },
    "kernelspec": {
      "name": "python3",
      "display_name": "Python 3"
    },
    "language_info": {
      "name": "python"
    }
  },
  "cells": [
    {
      "cell_type": "markdown",
      "metadata": {
        "id": "view-in-github",
        "colab_type": "text"
      },
      "source": [
        "<a href=\"https://colab.research.google.com/github/Emiliopv/Pro/blob/main/Untitled8.ipynb\" target=\"_parent\"><img src=\"https://colab.research.google.com/assets/colab-badge.svg\" alt=\"Open In Colab\"/></a>"
      ]
    },
    {
      "cell_type": "code",
      "metadata": {
        "colab": {
          "base_uri": "https://localhost:8080/"
        },
        "id": "lsqgtTeIaSHu",
        "outputId": "39f3c579-09e7-402e-e6b8-528a9eda1438"
      },
      "source": [
        "#info = [8,5,9,3]\n",
        "info = [6568,5,9,3,4,64,342,34,56,72,12,33,3434,54,0,35,4]\n",
        "# range(<inicio>, <stop>,<incremento>)\n",
        "# range( 3,0,-1)\n",
        "# intercambio -->   a , b = b  , a\n",
        "\n",
        "def burbuja ( data ):    # M O(n)    P  O(1)\n",
        "    tam = len(data)      # M O(1)    P  O(1)\n",
        "    for tope in range (tam-1,0,-1):\n",
        "        for pivote in range(tope):\n",
        "            if data[ pivote ] > data[ pivote + 1]:\n",
        "                data [pivote],data[pivote + 1]=data[pivote+1],data[pivote]\n",
        "                # M O( 0 )    P  O(2n^2)\n",
        "    \n",
        "    return data    # M O(0)    P  O(1)\n",
        "\n",
        "# Memoria           O( n+3 )         =    O( n )\n",
        "# Procesamiento     O( 3 + 2n^2 )    =    O( n^2 )\n",
        "\n",
        "burbuja(info)"
      ],
      "execution_count": 1,
      "outputs": [
        {
          "output_type": "execute_result",
          "data": {
            "text/plain": [
              "[0, 3, 4, 4, 5, 9, 12, 33, 34, 35, 54, 56, 64, 72, 342, 3434, 6568]"
            ]
          },
          "metadata": {},
          "execution_count": 1
        }
      ]
    },
    {
      "cell_type": "code",
      "metadata": {
        "colab": {
          "base_uri": "https://localhost:8080/"
        },
        "id": "IIdN1XfaaYBO",
        "outputId": "1cbc54ef-e3f7-442e-e18f-a0bdd99e90b8"
      },
      "source": [
        "def selection_sort (data):    # M O(n)    P  O(1)\n",
        "    for pivote in range( len(data) ):    # M O(1)    P  O(na)\n",
        "        min = pivote    # M O(1)    P  O(n)\n",
        "        for index in range( pivote, len(data), 1 ):    # M O(1)    P  O(na)\n",
        "            if data[index] < data[min]:    # M O(0)    P  O(na)\n",
        "                min = index    # M O(0)    P  O(n^2)\n",
        "        data[pivote] , data[min] = data[min] , data[pivote]    # M O(0)    P  O(2n^2)\n",
        "        print(f\" --> {data} <-- \")    # M O(0)    P  O(0)\n",
        "    return data    # M O(0)    P  O(1)\n",
        "# M O(n)    P  O(1 + n + n^2 + 2n + 1)\n",
        "# M O(n)    P  O(n^2 )\n",
        "info = [6568,5,9,3,4,64,342,34,56,72,12,33,3434,54,0,35,4]\n",
        "print (selection_sort (info) )"
      ],
      "execution_count": 2,
      "outputs": [
        {
          "output_type": "stream",
          "name": "stdout",
          "text": [
            " --> [0, 5, 9, 3, 4, 64, 342, 34, 56, 72, 12, 33, 3434, 54, 6568, 35, 4] <-- \n",
            " --> [0, 3, 9, 5, 4, 64, 342, 34, 56, 72, 12, 33, 3434, 54, 6568, 35, 4] <-- \n",
            " --> [0, 3, 4, 5, 9, 64, 342, 34, 56, 72, 12, 33, 3434, 54, 6568, 35, 4] <-- \n",
            " --> [0, 3, 4, 4, 9, 64, 342, 34, 56, 72, 12, 33, 3434, 54, 6568, 35, 5] <-- \n",
            " --> [0, 3, 4, 4, 5, 64, 342, 34, 56, 72, 12, 33, 3434, 54, 6568, 35, 9] <-- \n",
            " --> [0, 3, 4, 4, 5, 9, 342, 34, 56, 72, 12, 33, 3434, 54, 6568, 35, 64] <-- \n",
            " --> [0, 3, 4, 4, 5, 9, 12, 34, 56, 72, 342, 33, 3434, 54, 6568, 35, 64] <-- \n",
            " --> [0, 3, 4, 4, 5, 9, 12, 33, 56, 72, 342, 34, 3434, 54, 6568, 35, 64] <-- \n",
            " --> [0, 3, 4, 4, 5, 9, 12, 33, 34, 72, 342, 56, 3434, 54, 6568, 35, 64] <-- \n",
            " --> [0, 3, 4, 4, 5, 9, 12, 33, 34, 35, 342, 56, 3434, 54, 6568, 72, 64] <-- \n",
            " --> [0, 3, 4, 4, 5, 9, 12, 33, 34, 35, 54, 56, 3434, 342, 6568, 72, 64] <-- \n",
            " --> [0, 3, 4, 4, 5, 9, 12, 33, 34, 35, 54, 56, 3434, 342, 6568, 72, 64] <-- \n",
            " --> [0, 3, 4, 4, 5, 9, 12, 33, 34, 35, 54, 56, 64, 342, 6568, 72, 3434] <-- \n",
            " --> [0, 3, 4, 4, 5, 9, 12, 33, 34, 35, 54, 56, 64, 72, 6568, 342, 3434] <-- \n",
            " --> [0, 3, 4, 4, 5, 9, 12, 33, 34, 35, 54, 56, 64, 72, 342, 6568, 3434] <-- \n",
            " --> [0, 3, 4, 4, 5, 9, 12, 33, 34, 35, 54, 56, 64, 72, 342, 3434, 6568] <-- \n",
            " --> [0, 3, 4, 4, 5, 9, 12, 33, 34, 35, 54, 56, 64, 72, 342, 3434, 6568] <-- \n",
            "[0, 3, 4, 4, 5, 9, 12, 33, 34, 35, 54, 56, 64, 72, 342, 3434, 6568]\n"
          ]
        }
      ]
    },
    {
      "cell_type": "code",
      "metadata": {
        "colab": {
          "base_uri": "https://localhost:8080/"
        },
        "id": "gRqs1TO-adQv",
        "outputId": "9a9a86d2-ca66-4341-86b6-a6b196144b2b"
      },
      "source": [
        "def insertion_sort (data):    # M O(n)    P  O(1)\n",
        "    print(f\"original {data}\")    # M O(0)    P  O(1)\n",
        "    #Toda la lógica de Insertion Sort\n",
        "    for pivote in range( 1, len(data), 1):    # M O(1)    P  O(na)\n",
        "        for index in range(0, pivote+1, 1):    # M O(1)    P  O(na)\n",
        "            if data[pivote] < data[index]:    # M O(0)    P  O(na)\n",
        "                tmp = data[pivote]    # M O(1)    P  O(n)\n",
        "                #recorrer a la derecha\n",
        "                for i in range(pivote, index, -1):    # M O(1)    P  O(na)\n",
        "                    data[i] = data [i-1]    # M O(0)    P  O(n*m)\n",
        "                data[index] = tmp    # M O(0)    P  O(n)\n",
        "        print(f\"pasada {pivote} --> {data} <--\")    # M O(0)    P  O(1)\n",
        "    return data    # M O(0)    P  O(1)\n",
        "\n",
        "# M O(n+4)    P  O(4 + 2n + n * m)  -->  T(n)\n",
        "# M O(n)      P  O(n + n^2)\n",
        "# M O(n)      P  O(n^2)\n",
        "\n",
        "\n",
        "info = [10, 51, 2, 18, 4, 31, 12,5]\n",
        "\n",
        "print(insertion_sort(info))"
      ],
      "execution_count": 3,
      "outputs": [
        {
          "output_type": "stream",
          "name": "stdout",
          "text": [
            "original [10, 51, 2, 18, 4, 31, 12, 5]\n",
            "pasada 1 --> [10, 51, 2, 18, 4, 31, 12, 5] <--\n",
            "pasada 2 --> [2, 10, 51, 18, 4, 31, 12, 5] <--\n",
            "pasada 3 --> [2, 10, 18, 51, 4, 31, 12, 5] <--\n",
            "pasada 4 --> [2, 4, 10, 18, 51, 31, 12, 5] <--\n",
            "pasada 5 --> [2, 4, 10, 18, 31, 51, 12, 5] <--\n",
            "pasada 6 --> [2, 4, 10, 12, 18, 31, 51, 5] <--\n",
            "pasada 7 --> [2, 4, 5, 10, 12, 18, 31, 51] <--\n",
            "[2, 4, 5, 10, 12, 18, 31, 51]\n"
          ]
        }
      ]
    },
    {
      "cell_type": "code",
      "metadata": {
        "id": "RG0EKU24ajbV"
      },
      "source": [
        "def mergeSort( data ):    # M O(n)    P  O(1)\n",
        "    tam = len( data )     # M O(1)    P  O(1)\n",
        "    #print(f\" recibido { data }\")\n",
        "    if tam == 1: #caso base de la recursividad    # M O(0)    P  O(na)\n",
        "        return data    # M O(0)    P  O(1)\n",
        "    \n",
        "    mid = tam // 2    # M O(1)    P  O(2)\n",
        "    I = mergeSort( data[ 0  :mid: 1] )    # M O(0)    P  O( (log n) /2 )\n",
        "    D = mergeSort( data[ mid:   : 1] )\n",
        "    #print(f\"{I}\\t\\t {D}\")\n",
        "    return merge ( I , D)\n",
        "\n",
        "def merge( I , D ):\n",
        "    resultado = [0] * (len(I) + len(D))\n",
        "    i = 0\n",
        "    d = 0\n",
        "    r = 0\n",
        "    while i < len( I ) and d < len( D ):\n",
        "        if I[i] < D[d]:\n",
        "            resultado[r] = I[i]\n",
        "            i += 1\n",
        "        else:\n",
        "            resultado[r] = D[d]\n",
        "            d += 1\n",
        "        r += 1\n",
        "    # Procesar los faltantes ya sea a la der o a la izq\n",
        "    while i < len( I ):\n",
        "        resultado[r] = I[i]\n",
        "        i += 1\n",
        "        r += 1\n",
        "\n",
        "    while d < len( D ):\n",
        "        resultado[r] = D[d]\n",
        "        d += 1\n",
        "        r += 1\n",
        "    return resultado"
      ],
      "execution_count": 4,
      "outputs": []
    },
    {
      "cell_type": "code",
      "metadata": {
        "colab": {
          "base_uri": "https://localhost:8080/"
        },
        "id": "NOmOOFLSaoMv",
        "outputId": "701efafb-4848-4ed8-902b-a5ee21e0c596"
      },
      "source": [
        "numeros = [10,51,2,18,4,31,12,5]\n",
        "print(mergeSort(numeros))\n",
        "\n",
        "numeros = [8,4,10,3,20,18,12,15]\n",
        "print(mergeSort(numeros))"
      ],
      "execution_count": 5,
      "outputs": [
        {
          "output_type": "stream",
          "name": "stdout",
          "text": [
            "[2, 4, 5, 10, 12, 18, 31, 51]\n",
            "[3, 4, 8, 10, 12, 15, 18, 20]\n"
          ]
        }
      ]
    },
    {
      "cell_type": "code",
      "metadata": {
        "colab": {
          "base_uri": "https://localhost:8080/"
        },
        "id": "N0C86t1DapkW",
        "outputId": "972e94db-c7c7-46dd-91bc-e82cc3dab54a"
      },
      "source": [
        "frutas=['peras','manzanas','kiwi','limon','aguacate','uva','sandia']\n",
        "print(frutas)\n",
        "#Slicing sirve para sacar rebanadas de un iterable.\n",
        "#frutas[<ini>:<stop>:<incremento>]\n",
        "#Nota: el stop no se incluye, se incluye el valor previo\n",
        "\n",
        "print( frutas[0 : 3 : 1] )\n",
        "print( frutas[2 : 6 : 1])\n",
        "print( len(frutas) )\n",
        "mid = len(frutas) // 2\n",
        "print( mid )\n",
        "print( frutas[0 : mid : 1])\n",
        "print( frutas[mid :  : 1])"
      ],
      "execution_count": 6,
      "outputs": [
        {
          "output_type": "stream",
          "name": "stdout",
          "text": [
            "['peras', 'manzanas', 'kiwi', 'limon', 'aguacate', 'uva', 'sandia']\n",
            "['peras', 'manzanas', 'kiwi']\n",
            "['kiwi', 'limon', 'aguacate', 'uva']\n",
            "7\n",
            "3\n",
            "['peras', 'manzanas', 'kiwi']\n",
            "['limon', 'aguacate', 'uva', 'sandia']\n"
          ]
        }
      ]
    },
    {
      "cell_type": "code",
      "metadata": {
        "colab": {
          "base_uri": "https://localhost:8080/"
        },
        "id": "yM_0p849auIk",
        "outputId": "8efeac9e-ca72-4e8b-e7a6-7ba20c9060dc"
      },
      "source": [
        "I = [ 2 , 8 , 45]\n",
        "D = [ 3 , 22 ]\n",
        "resultado = [0] * ( len (I) + len(D))\n",
        "print(resultado)"
      ],
      "execution_count": 7,
      "outputs": [
        {
          "output_type": "stream",
          "name": "stdout",
          "text": [
            "[0, 0, 0, 0, 0]\n"
          ]
        }
      ]
    }
  ]
}