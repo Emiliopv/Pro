{
  "nbformat": 4,
  "nbformat_minor": 0,
  "metadata": {
    "colab": {
      "name": "Untitled17.ipynb",
      "provenance": [],
      "authorship_tag": "ABX9TyOQlW+md/rtiSJJ/h23quCV",
      "include_colab_link": true
    },
    "kernelspec": {
      "name": "python3",
      "display_name": "Python 3"
    },
    "language_info": {
      "name": "python"
    }
  },
  "cells": [
    {
      "cell_type": "markdown",
      "metadata": {
        "id": "view-in-github",
        "colab_type": "text"
      },
      "source": [
        "<a href=\"https://colab.research.google.com/github/Emiliopv/Pro/blob/main/Untitled17.ipynb\" target=\"_parent\"><img src=\"https://colab.research.google.com/assets/colab-badge.svg\" alt=\"Open In Colab\"/></a>"
      ]
    },
    {
      "cell_type": "code",
      "metadata": {
        "id": "sqH9Hwk10_fP",
        "colab": {
          "base_uri": "https://localhost:8080/",
          "height": 353
        },
        "outputId": "ee3d94a9-5eb8-4d83-cf9b-0105ceb09e13"
      },
      "source": [
        "from matplotlib import pyplot as plt\n",
        "import random\n",
        "import math\n",
        "\n",
        "pares = []\n",
        "for i in range(30):\n",
        "    pares.append( [ random.randint(1,100) , random.randint(1,100) ] )\n",
        "print(pares)\n",
        "\n",
        "for par in pares:\n",
        "    plt.scatter(par[0],par[1] , s=3 ,c=\"b\"  )\n",
        "#resultado = math.sqrt((pow(((x2-x1)),2))+(pow(((y2-y1)),2)))\n",
        "\n",
        "def distancia( p1 , p2): #pares\n",
        "    dis = math.sqrt((pow(((p2[0]-p1[0])),2))+(pow(((p2[1]-p1[1])),2)))\n",
        "    return dis\n",
        "\n",
        "print(distancia ( [32 , 96] , [68 , 90] ) )\n",
        "\n",
        "menor = 99999\n",
        "d = 0\n",
        "par_menor = []\n",
        "\n",
        "for i in range( len(pares) ):\n",
        "    for j in range(len (pares) ):\n",
        "        d = distancia( pares[i] , pares[j] )\n",
        "        if d < menor and d != 0.0:\n",
        "            menor = d\n",
        "            par_menor.clear()\n",
        "            par_menor.append( pares[i] )\n",
        "            par_menor.append( pares[j] )\n",
        "\n",
        "print(menor)\n",
        "print( par_menor[0] , par_menor[1] )"
      ],
      "execution_count": null,
      "outputs": [
        {
          "output_type": "stream",
          "name": "stdout",
          "text": [
            "[[20, 6], [38, 89], [96, 31], [88, 81], [75, 83], [17, 75], [47, 75], [95, 27], [41, 17], [66, 10], [55, 93], [7, 56], [64, 69], [94, 3], [50, 69], [76, 41], [85, 52], [90, 34], [43, 42], [21, 65], [81, 92], [69, 48], [37, 9], [55, 9], [97, 69], [61, 90], [87, 19], [11, 64], [24, 41], [51, 44]]\n",
            "36.49657518178932\n",
            "4.123105625617661\n",
            "[96, 31] [95, 27]\n"
          ]
        },
        {
          "output_type": "display_data",
          "data": {
            "image/png": "[encoded data removed]",
            "text/plain": [
              "<Figure size 432x288 with 1 Axes>"
            ]
          },
          "metadata": {
            "needs_background": "light"
          }
        }
      ]
    }
  ]
}