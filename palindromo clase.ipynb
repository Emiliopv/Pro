{
  "nbformat": 4,
  "nbformat_minor": 0,
  "metadata": {
    "colab": {
      "name": "Untitled1.ipynb",
      "provenance": [],
      "authorship_tag": "ABX9TyPDxSclb0vd8MT0KZ0Ud15F",
      "include_colab_link": true
    },
    "kernelspec": {
      "name": "python3",
      "display_name": "Python 3"
    },
    "language_info": {
      "name": "python"
    }
  },
  "cells": [
    {
      "cell_type": "markdown",
      "metadata": {
        "id": "view-in-github",
        "colab_type": "text"
      },
      "source": [
        "<a href=\"https://colab.research.google.com/github/Emiliopv/Pro/blob/main/palindromo%20clase.ipynb\" target=\"_parent\"><img src=\"https://colab.research.google.com/assets/colab-badge.svg\" alt=\"Open In Colab\"/></a>"
      ]
    },
    {
      "cell_type": "code",
      "metadata": {
        "colab": {
          "base_uri": "https://localhost:8080/"
        },
        "id": "Kow2Dalufs4O",
        "outputId": "4aa7d7b1-dfe0-42ec-e893-ae8558644ad0"
      },
      "source": [
        "def run():\n",
        "    aux = 0 # O(1)    O(1)\n",
        "    for i in range(23): # O(23 * 4 )     \n",
        "        for j in range(60): # O(  60 * 4 )\n",
        "            for k in range(60): #O(60 * 4)\n",
        "                reverse = str(i).zfill(2) + ':' + str(j).zfill(2) + ':' + str(k).zfill(2) # O( 8 )    O( 82800 )\n",
        "                #print(f' {reverse}')\n",
        "                if reverse == reverse[::-1]: \n",
        "                    print(f'{reverse}') \n",
        "                    aux += 1  # O(90)\n",
        "    print(f'numero de palindromos: {aux}')\n",
        "\n",
        "if __name__ == \"__main__\":\n",
        "    run()\n",
        "# Memoria     O(1 + 92 +240+240+8 ) = O(581)\n",
        "# Procesador  O(1 + 82800 + 90) = O (82891)"
      ],
      "execution_count": 1,
      "outputs": [
        {
          "output_type": "stream",
          "name": "stdout",
          "text": [
            "00:00:00\n",
            "00:11:00\n",
            "00:22:00\n",
            "00:33:00\n",
            "00:44:00\n",
            "00:55:00\n",
            "01:00:10\n",
            "01:11:10\n",
            "01:22:10\n",
            "01:33:10\n",
            "01:44:10\n",
            "01:55:10\n",
            "02:00:20\n",
            "02:11:20\n",
            "02:22:20\n",
            "02:33:20\n",
            "02:44:20\n",
            "02:55:20\n",
            "03:00:30\n",
            "03:11:30\n",
            "03:22:30\n",
            "03:33:30\n",
            "03:44:30\n",
            "03:55:30\n",
            "04:00:40\n",
            "04:11:40\n",
            "04:22:40\n",
            "04:33:40\n",
            "04:44:40\n",
            "04:55:40\n",
            "05:00:50\n",
            "05:11:50\n",
            "05:22:50\n",
            "05:33:50\n",
            "05:44:50\n",
            "05:55:50\n",
            "10:00:01\n",
            "10:11:01\n",
            "10:22:01\n",
            "10:33:01\n",
            "10:44:01\n",
            "10:55:01\n",
            "11:00:11\n",
            "11:11:11\n",
            "11:22:11\n",
            "11:33:11\n",
            "11:44:11\n",
            "11:55:11\n",
            "12:00:21\n",
            "12:11:21\n",
            "12:22:21\n",
            "12:33:21\n",
            "12:44:21\n",
            "12:55:21\n",
            "13:00:31\n",
            "13:11:31\n",
            "13:22:31\n",
            "13:33:31\n",
            "13:44:31\n",
            "13:55:31\n",
            "14:00:41\n",
            "14:11:41\n",
            "14:22:41\n",
            "14:33:41\n",
            "14:44:41\n",
            "14:55:41\n",
            "15:00:51\n",
            "15:11:51\n",
            "15:22:51\n",
            "15:33:51\n",
            "15:44:51\n",
            "15:55:51\n",
            "20:00:02\n",
            "20:11:02\n",
            "20:22:02\n",
            "20:33:02\n",
            "20:44:02\n",
            "20:55:02\n",
            "21:00:12\n",
            "21:11:12\n",
            "21:22:12\n",
            "21:33:12\n",
            "21:44:12\n",
            "21:55:12\n",
            "22:00:22\n",
            "22:11:22\n",
            "22:22:22\n",
            "22:33:22\n",
            "22:44:22\n",
            "22:55:22\n",
            "numero de palindromos: 90\n"
          ]
        }
      ]
    }
  ]
}